{
  "nbformat": 4,
  "nbformat_minor": 0,
  "metadata": {
    "colab": {
      "provenance": []
    },
    "kernelspec": {
      "name": "python3",
      "display_name": "Python 3"
    },
    "language_info": {
      "name": "python"
    }
  },
  "cells": [
    {
      "cell_type": "code",
      "execution_count": null,
      "metadata": {
        "id": "zEbR027tONgj"
      },
      "outputs": [],
      "source": [
        "!pip install openai==0.28\n",
        "\n",
        "import openai\n",
        "import os\n",
        "import requests\n",
        "from io import BytesIO\n",
        "from PIL import Image\n",
        "from IPython.display import display\n",
        "\n",
        "# Configuración de la API Key\n",
        "os.environ[\"OPENAI_API_KEY\"] = \"TU_API_KEY\"\n",
        "openai.api_key = os.getenv(\"OPENAI_API_KEY\")\n",
        "\n",
        "if not openai.api_key:\n",
        "    raise ValueError(\"Por favor, configure su API Key en la variable de entorno OPENAI_API_KEY.\")\n",
        "\n",
        "# TEXTO => TEXTO\n",
        "def generar_texto_legal(prompt):\n",
        "    try:\n",
        "        respuesta = openai.ChatCompletion.create(\n",
        "            model=\"gpt-3.5-turbo\",\n",
        "            messages=[{\"role\": \"user\", \"content\": prompt}],\n",
        "        )\n",
        "        return respuesta.choices[0].message[\"content\"]\n",
        "    except openai.error.OpenAIError as e:\n",
        "        return f\"Error al generar el texto: {e}\"\n",
        "\n",
        "# TEXTO => IMAGEN\n",
        "def generar_imagen(prompt):\n",
        "    try:\n",
        "        respuesta = openai.Image.create(\n",
        "            model=\"dall-e-3\",\n",
        "            prompt=f\"Ilustracion de {prompt}, en un estilo profesional y legal.\",\n",
        "            n=1,\n",
        "            size=\"1024x1024\",\n",
        "        )\n",
        "        return respuesta['data'][0]['url']\n",
        "    except openai.error.OpenAIError as e:\n",
        "        return f\"Error al generar la imagen: {e}\"\n",
        "\n",
        "# Integracion (TEXTO => TEXTO + TEXTO => IMAGEN)\n",
        "def asistente_legal():\n",
        "    prompt_usuario = input(\"Describe el documento que necesitas generar: \")\n",
        "\n",
        "    print(\"Generando documento...\\n\")\n",
        "    texto_generado = generar_texto_legal(prompt_usuario)\n",
        "\n",
        "    print(\"Documento generado:\\n\")\n",
        "    print(texto_generado)\n",
        "\n",
        "    print(\"Generando imagen representativa...\\n\")\n",
        "    url_imagen = generar_imagen(prompt_usuario)\n",
        "\n",
        "    if \"Error\" not in url_imagen:\n",
        "        imagen = Image.open(BytesIO(requests.get(url_imagen).content))\n",
        "        display(imagen)\n",
        "    else:\n",
        "        print(url_imagen)\n",
        "\n",
        "asistente_legal()"
      ]
    }
  ]
}